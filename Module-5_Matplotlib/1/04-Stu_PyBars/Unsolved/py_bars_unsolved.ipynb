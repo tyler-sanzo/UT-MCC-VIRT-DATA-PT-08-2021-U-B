{
 "cells": [
  {
   "cell_type": "code",
   "execution_count": 104,
   "source": [
    "import matplotlib.pyplot as plt\r\n",
    "import numpy as np"
   ],
   "outputs": [],
   "metadata": {
    "collapsed": true
   }
  },
  {
   "cell_type": "code",
   "execution_count": 105,
   "source": [
    "cities = [\"New Orleans\", \"Milwaukee\", \"Omaha\", \"Pittsburgh\", \"Toledo\"]\r\n",
    "bars_in_cities = [8.6, 8.5, 8.3, 7.9, 7.2]\r\n",
    "x_axis = np.arange(len(bars_in_cities))"
   ],
   "outputs": [],
   "metadata": {
    "collapsed": true
   }
  },
  {
   "cell_type": "code",
   "execution_count": 106,
   "source": [
    "# Create a bar chart based upon the above data\r\n",
    "plt.bar(cities, bars_in_cities)\r\n"
   ],
   "outputs": [
    {
     "output_type": "execute_result",
     "data": {
      "text/plain": [
       "<BarContainer object of 5 artists>"
      ]
     },
     "metadata": {},
     "execution_count": 106
    },
    {
     "output_type": "display_data",
     "data": {
      "image/png": "[encoded data removed]",
      "text/plain": [
       "<Figure size 432x288 with 1 Axes>"
      ]
     },
     "metadata": {
      "needs_background": "light"
     }
    }
   ],
   "metadata": {}
  },
  {
   "cell_type": "code",
   "execution_count": 107,
   "source": [
    "# Create the ticks for our bar chart's x axis\r\n",
    "plt.bar(cities, bars_in_cities)\r\n",
    "plt.xticks(np.arange(3))\r\n",
    "plt.show()"
   ],
   "outputs": [
    {
     "output_type": "display_data",
     "data": {
      "image/png": "[encoded data removed]",
      "text/plain": [
       "<Figure size 432x288 with 1 Axes>"
      ]
     },
     "metadata": {
      "needs_background": "light"
     }
    }
   ],
   "metadata": {}
  },
  {
   "cell_type": "code",
   "execution_count": 108,
   "source": [
    "# Set the limits of the x axis"
   ],
   "outputs": [],
   "metadata": {}
  },
  {
   "cell_type": "code",
   "execution_count": 109,
   "source": [
    "# Set the limits of the y axis"
   ],
   "outputs": [],
   "metadata": {}
  },
  {
   "cell_type": "code",
   "execution_count": 110,
   "source": [
    "# Give the chart a title, x label, and y label"
   ],
   "outputs": [],
   "metadata": {}
  },
  {
   "cell_type": "code",
   "execution_count": 111,
   "source": [
    "# Save an image of the chart and print it to the screen"
   ],
   "outputs": [],
   "metadata": {}
  },
  {
   "cell_type": "code",
   "execution_count": null,
   "source": [],
   "outputs": [],
   "metadata": {
    "collapsed": true
   }
  }
 ],
 "metadata": {
  "kernelspec": {
   "name": "python3",
   "display_name": "Python 3.8.2 32-bit"
  },
  "language_info": {
   "codemirror_mode": {
    "name": "ipython",
    "version": 3
   },
   "file_extension": ".py",
   "mimetype": "text/x-python",
   "name": "python",
   "nbconvert_exporter": "python",
   "pygments_lexer": "ipython3",
   "version": "3.8.2"
  },
  "interpreter": {
   "hash": "53407e1270532579b1a89f93d56ca0e7e69e0c7fe55253e94960ff9a19649c31"
  }
 },
 "nbformat": 4,
 "nbformat_minor": 2
}