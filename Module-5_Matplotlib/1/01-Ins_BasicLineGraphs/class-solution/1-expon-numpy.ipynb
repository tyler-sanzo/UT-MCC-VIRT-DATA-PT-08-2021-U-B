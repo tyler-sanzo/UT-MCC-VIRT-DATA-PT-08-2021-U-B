{
 "cells": [
  {
   "cell_type": "code",
   "execution_count": 1,
   "metadata": {},
   "outputs": [],
   "source": [
    "import numpy as np\n",
    "import matplotlib.pyplot as plt"
   ]
  },
  {
   "cell_type": "code",
   "execution_count": 2,
   "metadata": {},
   "outputs": [],
   "source": [
    "x = np.arange(0, 100 + 1, 1)"
   ]
  },
  {
   "cell_type": "code",
   "execution_count": 3,
   "metadata": {},
   "outputs": [],
   "source": [
    "y = np.exp(x)"
   ]
  },
  {
   "cell_type": "code",
   "execution_count": 4,
   "metadata": {},
   "outputs": [
    {
     "data": {
      "text/plain": [
       "array([1.00000000e+00, 2.71828183e+00, 7.38905610e+00, 2.00855369e+01,\n",
       "       5.45981500e+01, 1.48413159e+02, 4.03428793e+02, 1.09663316e+03,\n",
       "       2.98095799e+03, 8.10308393e+03, 2.20264658e+04, 5.98741417e+04,\n",
       "       1.62754791e+05, 4.42413392e+05, 1.20260428e+06, 3.26901737e+06,\n",
       "       8.88611052e+06, 2.41549528e+07, 6.56599691e+07, 1.78482301e+08,\n",
       "       4.85165195e+08, 1.31881573e+09, 3.58491285e+09, 9.74480345e+09,\n",
       "       2.64891221e+10, 7.20048993e+10, 1.95729609e+11, 5.32048241e+11,\n",
       "       1.44625706e+12, 3.93133430e+12, 1.06864746e+13, 2.90488497e+13,\n",
       "       7.89629602e+13, 2.14643580e+14, 5.83461743e+14, 1.58601345e+15,\n",
       "       4.31123155e+15, 1.17191424e+16, 3.18559318e+16, 8.65934004e+16,\n",
       "       2.35385267e+17, 6.39843494e+17, 1.73927494e+18, 4.72783947e+18,\n",
       "       1.28516001e+19, 3.49342711e+19, 9.49611942e+19, 2.58131289e+20,\n",
       "       7.01673591e+20, 1.90734657e+21, 5.18470553e+21, 1.40934908e+22,\n",
       "       3.83100800e+22, 1.04137594e+23, 2.83075330e+23, 7.69478527e+23,\n",
       "       2.09165950e+24, 5.68572000e+24, 1.54553894e+25, 4.20121040e+25,\n",
       "       1.14200739e+26, 3.10429794e+26, 8.43835667e+26, 2.29378316e+27,\n",
       "       6.23514908e+27, 1.69488924e+28, 4.60718663e+28, 1.25236317e+29,\n",
       "       3.40427605e+29, 9.25378173e+29, 2.51543867e+30, 6.83767123e+30,\n",
       "       1.85867175e+31, 5.05239363e+31, 1.37338298e+32, 3.73324200e+32,\n",
       "       1.01480039e+33, 2.75851345e+33, 7.49841700e+33, 2.03828107e+34,\n",
       "       5.54062238e+34, 1.50609731e+35, 4.09399696e+35, 1.11286375e+36,\n",
       "       3.02507732e+36, 8.22301271e+36, 2.23524660e+37, 6.07603023e+37,\n",
       "       1.65163625e+38, 4.48961282e+38, 1.22040329e+39, 3.31740010e+39,\n",
       "       9.01762841e+39, 2.45124554e+40, 6.66317622e+40, 1.81123908e+41,\n",
       "       4.92345829e+41, 1.33833472e+42, 3.63797095e+42, 9.88903032e+42,\n",
       "       2.68811714e+43])"
      ]
     },
     "execution_count": 4,
     "metadata": {},
     "output_type": "execute_result"
    }
   ],
   "source": [
    "y"
   ]
  },
  {
   "cell_type": "code",
   "execution_count": 5,
   "metadata": {},
   "outputs": [
    {
     "data": {
      "image/png": "[encoded data removed]",
      "text/plain": [
       "<Figure size 432x288 with 1 Axes>"
      ]
     },
     "metadata": {
      "needs_background": "light"
     },
     "output_type": "display_data"
    }
   ],
   "source": [
    "plt.plot(x, y)\n",
    "plt.xlabel(\"x\")\n",
    "plt.ylabel(\"y\")\n",
    "plt.title(\"Exponential Curve\")\n",
    "plt.show()"
   ]
  }
 ],
 "metadata": {
  "kernelspec": {
   "display_name": "Python 3",
   "language": "python",
   "name": "python3"
  },
  "language_info": {
   "codemirror_mode": {
    "name": "ipython",
    "version": 3
   },
   "file_extension": ".py",
   "mimetype": "text/x-python",
   "name": "python",
   "nbconvert_exporter": "python",
   "pygments_lexer": "ipython3",
   "version": "3.7.5"
  }
 },
 "nbformat": 4,
 "nbformat_minor": 4
}
